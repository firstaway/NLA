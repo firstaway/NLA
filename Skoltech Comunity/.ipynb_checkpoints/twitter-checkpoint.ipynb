{
 "metadata": {
  "name": "",
  "signature": "sha256:38015dd7dfa15c5166886cc30d60b244ec05a29602ca46a784dedef3a73a5e52"
 },
 "nbformat": 3,
 "nbformat_minor": 0,
 "worksheets": [
  {
   "cells": [
    {
     "cell_type": "code",
     "collapsed": false,
     "input": [
      "a = set([1,2,3])\n",
      "a.update([1,4,5])\n"
     ],
     "language": "python",
     "metadata": {},
     "outputs": [
      {
       "metadata": {},
       "output_type": "pyout",
       "prompt_number": 29,
       "text": [
        "{1, 2, 3, 4, 5}"
       ]
      }
     ],
     "prompt_number": 29
    },
    {
     "cell_type": "code",
     "collapsed": false,
     "input": [
      "import urllib\n",
      "import json\n",
      "import time\n",
      "API = \"https://api.vk.com/method/\"\n",
      "\n",
      "\n",
      "\n",
      "allfriends_unique = list()\n",
      "def user_friends(uid):\n",
      "    response = urllib.urlopen(\"%sfriends.get?user_id=%s\" %(API, uid)) # import my frends from my id\n",
      "    data = json.load(response)\n",
      "    try:\n",
      "        friends = data[\"response\"]\n",
      "    except:\n",
      "        return []\n",
      "    return data[\"response\"]\n",
      "def find_intersection(id1, id2):\n",
      "    friends1 = set(user_friends(id1))\n",
      "    friends2 = set(user_friends(id2))\n",
      "    return list(friends1.intersection(friends2))\n",
      "    \n",
      "\n",
      "skoltech_ids = dict()\n",
      "with open(\"skoltech_users.json\") as fp:\n",
      "    for line in fp:\n",
      "        if line.startswith(\"id:\"):\n",
      "            s_id = int(line[4:-2].strip())\n",
      "#             print s_id,\n",
      "            skoltech_ids[s_id] = \"\"\n",
      "        elif line.startswith(\"first_name\"):\n",
      "            skoltech_ids[s_id] += line[13:-3] + \" \"\n",
      "        elif line.startswith(\"last_name\"):\n",
      "            skoltech_ids[s_id] += line[12:-3]\n",
      "#             print skoltech_ids[s_id]\n",
      "\n",
      "id1 = skoltech_ids.keys()[0]\n",
      "id2 = skoltech_ids.keys()[1]\n",
      "\n",
      "def collect_friends(leveli, id2friends):\n",
      "    for uid in leveli:\n",
      "        id2friends[int(uid)] = user_friends(uid)\n",
      "\n",
      "def new_level(leveli, id2friends):\n",
      "    levelj = set()\n",
      "    for i in range(len(leveli) - 1 ):\n",
      "        for j in range(i+1, len(leveli)):\n",
      "            id1 = leveli[i]\n",
      "            id2 = leveli[j]\n",
      "            f1 = set(id2friends[id1])\n",
      "            f2 = set(id2friends[id2])\n",
      "            levelj.update(f1.intersection(f2))\n",
      "    return list(levelj)\n",
      "\n",
      "id2friends = dict()\n",
      "# # level 0\n",
      "# level0 = skoltech_ids.keys()\n",
      "# collect_friends(level0, id2friends)\n",
      "# print 'level0', len(id2friends)\n",
      "# with open(\"level0.txt\", \"w+\") as fp:\n",
      "#     for i in level0:\n",
      "#         fp.write(str(i) + '\\n')\n",
      "        \n",
      "# with open(\"id2friends.json\", \"w+\") as fp:\n",
      "#     json.dump(id2friends, fp)\n",
      "\n",
      "# # level 1\n",
      "# start = time.time() \n",
      "# level1 = new_level(level0, id2friends)\n",
      "# collect_friends(level1, id2friends)\n",
      "# print 'level1', len(id2friends)\n",
      "# with open(\"level1.txt\", \"w+\") as fp:\n",
      "#     for i in level1:\n",
      "#         fp.write(str(i) + '\\n')\n",
      "# print \"level1: \", time.time() - start\n",
      "\n",
      "\n",
      "# with open(\"id2friends.json\", \"w+\") as fp:\n",
      "#     json.dump(id2friends, fp)\n",
      "\n",
      "##############################\n",
      "# level1 = []\n",
      "# with open('level1.txt') as f:\n",
      "#     for line in f:\n",
      "#         level1.append(int(line))\n",
      "# print len(level1)\n",
      "\n",
      "# with open(\"ids2friends.json\") as fp:\n",
      "#     id2friends = json.load(fp)\n",
      "# print id2friends.values()\n",
      "\n",
      "\n",
      "# start = time.time() \n",
      "# level2 = new_level(level1, id2friends)\n",
      "# print len(level2)\n",
      "# with open(\"level2.txt\", \"w+\") as fp:\n",
      "#     for i in level2:\n",
      "#         fp.write(str(i) + '\\n')\n",
      "# # print \"level2: \", time.time() - start\n",
      "# with open(\"id2friends.json\", \"w+\") as fp:\n",
      "#     json.dump(id2friends, fp)\n",
      "# collect_friends(level2, id2friends)\n",
      "# print 'level2', len(id2friends)\n",
      "\n",
      "# print \"Total number of ids: %s\" %(len(id2friends))\n"
     ],
     "language": "python",
     "metadata": {},
     "outputs": [],
     "prompt_number": 73
    },
    {
     "cell_type": "code",
     "collapsed": false,
     "input": [
      "all_ids = []\n",
      "for i in range(3):\n",
      "    with open(\"level%s.txt\" %i) as fp:\n",
      "        for line in fp:\n",
      "            all_ids.append(int(line))\n",
      "            if len(all_ids) == 1000:\n",
      "                break\n",
      "                \n",
      "with open('all_ids.txt', 'w+') as fp:\n",
      "    for i in all_ids:\n",
      "        fp.write(str(i) + '\\n')\n",
      "\n",
      "# with open(\"id2friends.json\") as fp:\n",
      "#     id2friends = json.load(fp)\n",
      "\n",
      "# for i, uid in enumerate(all_ids):\n",
      "#     if str(uid) in id2friends:\n",
      "#         print 'Found', uid\n",
      "#     else:\n",
      "#         print i\n",
      "#         id2friends[str(uid)] = user_friends(uid)"
     ],
     "language": "python",
     "metadata": {},
     "outputs": [],
     "prompt_number": 1
    },
    {
     "cell_type": "code",
     "collapsed": false,
     "input": [
      "# allfriends = list()\n",
      "\n",
      "# def find_friends(response):\n",
      "    \n",
      "\n",
      "#     for i in xrange(len(response)):\n",
      "\n",
      "#         time.sleep(0.5)  # time delay in seconds\n",
      "#         string = \"https://api.vk.com/method/friends.get?user_id=%d\"%(response[i]) # get id of friends of my friends\n",
      "#         print string, i #!!!!!!!!!!!!!!!!!!!!!!!\n",
      "#         response_friend = urllib.urlopen(string) # import id of friends of my friends\n",
      "#         pyresponse_friend = json.load(response_friend) # transform from json into string\n",
      "\n",
      "#         if not \"error\" in pyresponse_friend:\n",
      "#             response_friend = pyresponse_friend[\"response\"] #the list of friends od my friends\n",
      "#             allfriends.extend(response_friend)\n",
      "#             open('friends-of-%d.txt' % response[i], 'w').write(json.dumps(response_friend))\n",
      "#         else:\n",
      "#             #response.remove(response[i])\n",
      "#             response[i]=0\n",
      "#             #print \"ERROR FOR USER\", response[i], pyresponse_friend\n",
      "#     #allfriends_unique = set(allfriends).sort\n",
      "#     #print allfriends_unique\n",
      "   \n",
      "# find_friends(response) \n",
      "    \n",
      "    \n",
      "    "
     ],
     "language": "python",
     "metadata": {},
     "outputs": [],
     "prompt_number": 17
    },
    {
     "cell_type": "code",
     "collapsed": false,
     "input": [
      "# allfriends_unique = sorted(set(allfriends))\n",
      "# #print allfriends_unique\n",
      "# print len(allfriends_unique)\n",
      "# find_friends(allfriends_unique)\n"
     ],
     "language": "python",
     "metadata": {},
     "outputs": [],
     "prompt_number": 18
    },
    {
     "cell_type": "code",
     "collapsed": false,
     "input": [
      "allfriends_unique = sorted(set(allfriends))\n",
      "print len(allfriends_unique)"
     ],
     "language": "python",
     "metadata": {},
     "outputs": []
    },
    {
     "cell_type": "code",
     "collapsed": false,
     "input": [
      "#pyresponse_friend"
     ],
     "language": "python",
     "metadata": {},
     "outputs": []
    },
    {
     "cell_type": "code",
     "collapsed": false,
     "input": [],
     "language": "python",
     "metadata": {},
     "outputs": []
    },
    {
     "cell_type": "code",
     "collapsed": false,
     "input": [
      "allfriends_unique\n"
     ],
     "language": "python",
     "metadata": {},
     "outputs": [
      {
       "metadata": {},
       "output_type": "pyout",
       "prompt_number": 83,
       "text": [
        "[]"
       ]
      }
     ],
     "prompt_number": 83
    },
    {
     "cell_type": "code",
     "collapsed": false,
     "input": [],
     "language": "python",
     "metadata": {},
     "outputs": [],
     "prompt_number": 1
    },
    {
     "cell_type": "code",
     "collapsed": false,
     "input": [],
     "language": "python",
     "metadata": {},
     "outputs": []
    }
   ],
   "metadata": {}
  }
 ]
}