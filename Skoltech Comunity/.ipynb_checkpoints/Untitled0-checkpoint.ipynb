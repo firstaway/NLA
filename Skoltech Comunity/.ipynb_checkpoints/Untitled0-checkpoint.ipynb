{
 "metadata": {
  "name": "",
  "signature": "sha256:90ae5ad17b5312ac17b5cb22f2ab60375d698469478e7e4051683c3108d72658"
 },
 "nbformat": 3,
 "nbformat_minor": 0,
 "worksheets": []
}